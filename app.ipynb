{
 "cells": [
  {
   "cell_type": "code",
   "execution_count": 4,
   "id": "6e9a9546",
   "metadata": {},
   "outputs": [
    {
     "name": "stdout",
     "output_type": "stream",
     "text": [
      "Running on local URL:  http://127.0.0.1:7863\n",
      "\n",
      "To create a public link, set `share=True` in `launch()`.\n"
     ]
    },
    {
     "data": {
      "text/html": [
       "<div><iframe src=\"http://127.0.0.1:7863/\" width=\"100%\" height=\"500\" allow=\"autoplay; camera; microphone; clipboard-read; clipboard-write;\" frameborder=\"0\" allowfullscreen></iframe></div>"
      ],
      "text/plain": [
       "<IPython.core.display.HTML object>"
      ]
     },
     "metadata": {},
     "output_type": "display_data"
    },
    {
     "data": {
      "text/plain": []
     },
     "execution_count": 4,
     "metadata": {},
     "output_type": "execute_result"
    }
   ],
   "source": [
    "import pickle\n",
    "import pandas as pd\n",
    "import gradio as gr\n",
    "import warnings\n",
    "warnings.filterwarnings('ignore')\n",
    "\n",
    "# Load the trained model\n",
    "model = pickle.load(open('GradientBoosting.pkl', 'rb'))\n",
    "\n",
    "def word_happiness(Standard_Error, Economy_GDP_per_Capita, Family, Freedom, Trust_Government_Corruption, Generosity, Dystopia_Residual):\n",
    "    # Prepare the input data as a DataFrame\n",
    "    data = pd.DataFrame({\n",
    "        'Standard_Error': [Standard_Error],\n",
    "        'Economy_GDP_per_Capita': [Economy_GDP_per_Capita],\n",
    "        'Family': [Family],\n",
    "        'Freedom': [Freedom],\n",
    "        'Trust_Government_Corruption': [Trust_Government_Corruption],\n",
    "        'Generosity': [Generosity],\n",
    "        'Dystopia_Residual': [Dystopia_Residual]\n",
    "    })\n",
    "\n",
    "    # Perform the prediction\n",
    "    prediction = model.predict(data)\n",
    "    return prediction[0]\n",
    "\n",
    "# Create the input components\n",
    "input_components = [\n",
    "    gr.inputs.Number(label=\"Standard Error\"),\n",
    "    gr.inputs.Number(label=\"Economy GDP per Capita\"),\n",
    "    gr.inputs.Number(label=\"Family\"),\n",
    "    gr.inputs.Number(label=\"Freedom\"),\n",
    "    gr.inputs.Number(label=\"Trust Government Corruption\"),\n",
    "    gr.inputs.Number(label=\"Generosity\"),\n",
    "    gr.inputs.Number(label=\"Dystopia Residual\")\n",
    "]\n",
    "\n",
    "# Create the interface\n",
    "interface = gr.Interface(\n",
    "    fn=word_happiness,\n",
    "    inputs=input_components,\n",
    "    outputs=\"number\",\n",
    "    title=\"Word Happiness Report Project\",\n",
    "    description=\"Word Happiness Report Project.\"\n",
    ")\n",
    "\n",
    "# Launch the interface\n",
    "interface.launch()\n"
   ]
  },
  {
   "cell_type": "code",
   "execution_count": null,
   "id": "46b8306d",
   "metadata": {},
   "outputs": [],
   "source": []
  }
 ],
 "metadata": {
  "kernelspec": {
   "display_name": "Python 3 (ipykernel)",
   "language": "python",
   "name": "python3"
  },
  "language_info": {
   "codemirror_mode": {
    "name": "ipython",
    "version": 3
   },
   "file_extension": ".py",
   "mimetype": "text/x-python",
   "name": "python",
   "nbconvert_exporter": "python",
   "pygments_lexer": "ipython3",
   "version": "3.9.12"
  }
 },
 "nbformat": 4,
 "nbformat_minor": 5
}
